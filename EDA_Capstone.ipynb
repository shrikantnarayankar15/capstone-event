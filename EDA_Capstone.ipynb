{
  "nbformat": 4,
  "nbformat_minor": 0,
  "metadata": {
    "colab": {
      "name": "EDA-Capstone.ipynb",
      "provenance": [],
      "collapsed_sections": [],
      "authorship_tag": "ABX9TyM8sP0r513FLoTF/sWITdY7",
      "include_colab_link": true
    },
    "kernelspec": {
      "name": "python3",
      "display_name": "Python 3"
    }
  },
  "cells": [
    {
      "cell_type": "markdown",
      "metadata": {
        "id": "view-in-github",
        "colab_type": "text"
      },
      "source": [
        "<a href=\"https://colab.research.google.com/github/shrikantnarayankar15/capstone-event/blob/master/EDA_Capstone.ipynb\" target=\"_parent\"><img src=\"https://colab.research.google.com/assets/colab-badge.svg\" alt=\"Open In Colab\"/></a>"
      ]
    },
    {
      "cell_type": "code",
      "metadata": {
        "id": "h5mEY6rs_ZZR",
        "colab_type": "code",
        "colab": {}
      },
      "source": [
        "import pandas as pd\n",
        "import numpy as np"
      ],
      "execution_count": 0,
      "outputs": []
    },
    {
      "cell_type": "code",
      "metadata": {
        "id": "Uzgg4DPC_pA9",
        "colab_type": "code",
        "colab": {}
      },
      "source": [
        "gender_age_train = pd.read_csv('Data-capstone/gender_age_train.csv')"
      ],
      "execution_count": 0,
      "outputs": []
    },
    {
      "cell_type": "code",
      "metadata": {
        "id": "4RxBvD1Y_3qU",
        "colab_type": "code",
        "outputId": "3dafddbe-8c2e-441e-fb2d-86544bbff73f",
        "colab": {
          "base_uri": "https://localhost:8080/",
          "height": 177
        }
      },
      "source": [
        "gender_age_train.info()"
      ],
      "execution_count": 0,
      "outputs": [
        {
          "output_type": "stream",
          "text": [
            "<class 'pandas.core.frame.DataFrame'>\n",
            "RangeIndex: 74645 entries, 0 to 74644\n",
            "Data columns (total 4 columns):\n",
            "device_id    74645 non-null int64\n",
            "gender       74645 non-null object\n",
            "age          74645 non-null int64\n",
            "group        74645 non-null object\n",
            "dtypes: int64(2), object(2)\n",
            "memory usage: 2.3+ MB\n"
          ],
          "name": "stdout"
        }
      ]
    },
    {
      "cell_type": "code",
      "metadata": {
        "id": "f4rtDAruAY66",
        "colab_type": "code",
        "outputId": "00eaf4a0-d769-432c-9633-31ff6cca5940",
        "colab": {
          "base_uri": "https://localhost:8080/",
          "height": 52
        }
      },
      "source": [
        "gender_age_train.group.unique()"
      ],
      "execution_count": 0,
      "outputs": [
        {
          "output_type": "execute_result",
          "data": {
            "text/plain": [
              "array(['M32-38', 'M29-31', 'F24-26', 'F33-42', 'F27-28', 'M39+', 'M23-26',\n",
              "       'M27-28', 'M22-', 'F43+', 'F23-', 'F29-32'], dtype=object)"
            ]
          },
          "metadata": {
            "tags": []
          },
          "execution_count": 5
        }
      ]
    },
    {
      "cell_type": "code",
      "metadata": {
        "id": "LZ3FTOmuAMDl",
        "colab_type": "code",
        "colab": {}
      },
      "source": [
        "# so we have 4 features\n",
        "#device-id which will be unique for each phone which we can remove\n",
        "#gender male/female\n",
        "# age of user\n",
        "# group means which age group they belong to"
      ],
      "execution_count": 0,
      "outputs": []
    },
    {
      "cell_type": "code",
      "metadata": {
        "id": "ZOabGHaiAqmT",
        "colab_type": "code",
        "colab": {}
      },
      "source": [
        "phone_brand_device_model = pd.read_csv('Data-capstone/phone_brand_device_model.csv')"
      ],
      "execution_count": 0,
      "outputs": []
    },
    {
      "cell_type": "code",
      "metadata": {
        "id": "q7GGPx4KEVbd",
        "colab_type": "code",
        "colab": {}
      },
      "source": [
        "replace_dictionary = { '华为'\t:'Huawei',\n",
        "                      '小米'\t:'Xiaomi',\n",
        "                      '三星'\t:'Samsung',\n",
        "                      'vivo'\t:'vivo',\n",
        "                      'OPPO'\t:'OPPO',\n",
        "                      '魅族'\t:'Meizu',\n",
        "                      '酷派'\t:'Coolpad',\n",
        "                      '乐视'\t:'LeEco',\n",
        "                      '联想 '\t:'Lenovo',\n",
        "                      'HTC'\t:'HTC',}"
      ],
      "execution_count": 0,
      "outputs": []
    },
    {
      "cell_type": "code",
      "metadata": {
        "id": "J-2GoSxqAtoi",
        "colab_type": "code",
        "colab": {}
      },
      "source": [
        "phone_brand_device_model = phone_brand_device_model.replace(replace_dictionary)"
      ],
      "execution_count": 0,
      "outputs": []
    },
    {
      "cell_type": "code",
      "metadata": {
        "id": "IoERKryoEDSf",
        "colab_type": "code",
        "colab": {}
      },
      "source": [
        "#lets combine both the dataset\n",
        "gender_phone_data = pd.merge(left=gender_age_train, right=phone_brand_device_model, how='inner',on='device_id')"
      ],
      "execution_count": 0,
      "outputs": []
    },
    {
      "cell_type": "code",
      "metadata": {
        "id": "00ezIJ03DSjN",
        "colab_type": "code",
        "colab": {}
      },
      "source": [
        "# #taking events data\n",
        "# event_data=[]\n",
        "# for i in range(0,16):\n",
        "#   event_data.append(pd.read_csv('events_data'+str(i)+'.csv'))"
      ],
      "execution_count": 0,
      "outputs": []
    },
    {
      "cell_type": "code",
      "metadata": {
        "id": "Lwzf4fsDFmsa",
        "colab_type": "code",
        "colab": {}
      },
      "source": [
        "# event_data = pd.concat(event_data)"
      ],
      "execution_count": 0,
      "outputs": []
    },
    {
      "cell_type": "code",
      "metadata": {
        "id": "r86rJ7QTF9WM",
        "colab_type": "code",
        "colab": {}
      },
      "source": [
        "# event_data.to_csv('Data-capstone/event_data_full.csv')"
      ],
      "execution_count": 0,
      "outputs": []
    },
    {
      "cell_type": "code",
      "metadata": {
        "id": "ytj-X5JeG4I2",
        "colab_type": "code",
        "colab": {}
      },
      "source": [
        "event_data = pd.read_csv('Data-capstone/event_data_full.csv')"
      ],
      "execution_count": 0,
      "outputs": []
    },
    {
      "cell_type": "code",
      "metadata": {
        "id": "2rI8Gw8FHJbg",
        "colab_type": "code",
        "outputId": "3851dce9-0df4-47da-a9a7-126d5b2c034d",
        "colab": {
          "base_uri": "https://localhost:8080/",
          "height": 194
        }
      },
      "source": [
        "event_data.head()"
      ],
      "execution_count": 0,
      "outputs": [
        {
          "output_type": "execute_result",
          "data": {
            "text/plain": [
              "   Unnamed: 0  event_id     device_id            timestamp  longitude  \\\n",
              "0           0         1  2.918269e+16  2016-05-01 00:55:25  77.266052   \n",
              "1           1      7104  2.918269e+16  2016-05-02 09:37:02  77.266052   \n",
              "2           2     29661  2.918269e+16  2016-05-04 00:56:04  77.266052   \n",
              "3           3     33133  2.918269e+16  2016-05-06 05:01:15  77.266052   \n",
              "4           4     38980  2.918269e+16  2016-05-06 09:55:04  77.266052   \n",
              "\n",
              "   latitude   city  state  \n",
              "0  28.68161  Delhi  Delhi  \n",
              "1  28.68161  Delhi  Delhi  \n",
              "2  28.68161  Delhi  Delhi  \n",
              "3  28.68161  Delhi  Delhi  \n",
              "4  28.68161  Delhi  Delhi  "
            ],
            "text/html": [
              "<div>\n",
              "<style scoped>\n",
              "    .dataframe tbody tr th:only-of-type {\n",
              "        vertical-align: middle;\n",
              "    }\n",
              "\n",
              "    .dataframe tbody tr th {\n",
              "        vertical-align: top;\n",
              "    }\n",
              "\n",
              "    .dataframe thead th {\n",
              "        text-align: right;\n",
              "    }\n",
              "</style>\n",
              "<table border=\"1\" class=\"dataframe\">\n",
              "  <thead>\n",
              "    <tr style=\"text-align: right;\">\n",
              "      <th></th>\n",
              "      <th>Unnamed: 0</th>\n",
              "      <th>event_id</th>\n",
              "      <th>device_id</th>\n",
              "      <th>timestamp</th>\n",
              "      <th>longitude</th>\n",
              "      <th>latitude</th>\n",
              "      <th>city</th>\n",
              "      <th>state</th>\n",
              "    </tr>\n",
              "  </thead>\n",
              "  <tbody>\n",
              "    <tr>\n",
              "      <th>0</th>\n",
              "      <td>0</td>\n",
              "      <td>1</td>\n",
              "      <td>2.918269e+16</td>\n",
              "      <td>2016-05-01 00:55:25</td>\n",
              "      <td>77.266052</td>\n",
              "      <td>28.68161</td>\n",
              "      <td>Delhi</td>\n",
              "      <td>Delhi</td>\n",
              "    </tr>\n",
              "    <tr>\n",
              "      <th>1</th>\n",
              "      <td>1</td>\n",
              "      <td>7104</td>\n",
              "      <td>2.918269e+16</td>\n",
              "      <td>2016-05-02 09:37:02</td>\n",
              "      <td>77.266052</td>\n",
              "      <td>28.68161</td>\n",
              "      <td>Delhi</td>\n",
              "      <td>Delhi</td>\n",
              "    </tr>\n",
              "    <tr>\n",
              "      <th>2</th>\n",
              "      <td>2</td>\n",
              "      <td>29661</td>\n",
              "      <td>2.918269e+16</td>\n",
              "      <td>2016-05-04 00:56:04</td>\n",
              "      <td>77.266052</td>\n",
              "      <td>28.68161</td>\n",
              "      <td>Delhi</td>\n",
              "      <td>Delhi</td>\n",
              "    </tr>\n",
              "    <tr>\n",
              "      <th>3</th>\n",
              "      <td>3</td>\n",
              "      <td>33133</td>\n",
              "      <td>2.918269e+16</td>\n",
              "      <td>2016-05-06 05:01:15</td>\n",
              "      <td>77.266052</td>\n",
              "      <td>28.68161</td>\n",
              "      <td>Delhi</td>\n",
              "      <td>Delhi</td>\n",
              "    </tr>\n",
              "    <tr>\n",
              "      <th>4</th>\n",
              "      <td>4</td>\n",
              "      <td>38980</td>\n",
              "      <td>2.918269e+16</td>\n",
              "      <td>2016-05-06 09:55:04</td>\n",
              "      <td>77.266052</td>\n",
              "      <td>28.68161</td>\n",
              "      <td>Delhi</td>\n",
              "      <td>Delhi</td>\n",
              "    </tr>\n",
              "  </tbody>\n",
              "</table>\n",
              "</div>"
            ]
          },
          "metadata": {
            "tags": []
          },
          "execution_count": 15
        }
      ]
    },
    {
      "cell_type": "code",
      "metadata": {
        "id": "X_9GTEzOK9AR",
        "colab_type": "code",
        "colab": {}
      },
      "source": [
        "event_data=event_data.dropna()"
      ],
      "execution_count": 0,
      "outputs": []
    },
    {
      "cell_type": "code",
      "metadata": {
        "id": "dyICJP0-KeR1",
        "colab_type": "code",
        "colab": {}
      },
      "source": [
        "event_data.device_id = event_data.device_id.astype('int64')"
      ],
      "execution_count": 0,
      "outputs": []
    },
    {
      "cell_type": "code",
      "metadata": {
        "id": "r7FNPNWCHkMw",
        "colab_type": "code",
        "outputId": "7cdc5189-7479-4405-e583-dac80f6a26c6",
        "colab": {
          "base_uri": "https://localhost:8080/",
          "height": 399
        }
      },
      "source": [
        "pd.merge(left=gender_phone_data,right=event_data, on='device_id',how='inner')"
      ],
      "execution_count": 0,
      "outputs": [
        {
          "output_type": "execute_result",
          "data": {
            "text/plain": [
              "                device_id gender  age   group phone_brand device_model  \\\n",
              "0       -6552729385743211      M   28  M27-28        vivo          X3T   \n",
              "1       -6552729385743211      M   28  M27-28        vivo          X3T   \n",
              "2       -6552729385743211      M   28  M27-28        vivo          X3T   \n",
              "3       -6552729385743211      M   28  M27-28        vivo          X3T   \n",
              "4       -6552729385743211      M   28  M27-28        vivo          X3T   \n",
              "...                   ...    ...  ...     ...         ...          ...   \n",
              "14314  419523816160703488      M   19    M22-        vivo      Xplay3S   \n",
              "14315  419523816160703488      M   19    M22-        vivo      Xplay3S   \n",
              "14316  419523816160703488      M   19    M22-        vivo      Xplay3S   \n",
              "14317  419523816160703488      M   19    M22-        vivo      Xplay3S   \n",
              "14318  419523816160703488      M   19    M22-        vivo      Xplay3S   \n",
              "\n",
              "       Unnamed: 0  event_id            timestamp  longitude   latitude  \\\n",
              "0          149937    189757  2016-05-07 21:40:38  78.487473  17.338947   \n",
              "1          149938    190875  2016-05-04 22:31:06  78.487473  17.338947   \n",
              "2          149939    236452  2016-05-04 21:45:10  78.487473  17.338947   \n",
              "3          149940    237777  2016-05-04 22:33:57  78.487473  17.338947   \n",
              "4          149941    289077  2016-05-04 21:14:14  78.487473  17.338947   \n",
              "...           ...       ...                  ...        ...        ...   \n",
              "14314      122009   2995757  2016-05-01 11:38:23  75.899025  26.959949   \n",
              "14315      122010   2998998  2016-05-03 13:05:53  75.899025  26.959949   \n",
              "14316      122011   3044070  2016-05-03 01:40:35  75.899025  26.959949   \n",
              "14317      122012   3191584  2016-05-03 23:18:51  75.899025  26.959949   \n",
              "14318      122013   3251524  2016-05-02 23:13:09  75.899025  26.959949   \n",
              "\n",
              "                city          state  \n",
              "0      Rajendranagar  AndhraPradesh  \n",
              "1      Rajendranagar  AndhraPradesh  \n",
              "2      Rajendranagar  AndhraPradesh  \n",
              "3      Rajendranagar  AndhraPradesh  \n",
              "4      Rajendranagar  AndhraPradesh  \n",
              "...              ...            ...  \n",
              "14314         Jaipur      Rajasthan  \n",
              "14315         Jaipur      Rajasthan  \n",
              "14316         Jaipur      Rajasthan  \n",
              "14317         Jaipur      Rajasthan  \n",
              "14318         Jaipur      Rajasthan  \n",
              "\n",
              "[14319 rows x 13 columns]"
            ],
            "text/html": [
              "<div>\n",
              "<style scoped>\n",
              "    .dataframe tbody tr th:only-of-type {\n",
              "        vertical-align: middle;\n",
              "    }\n",
              "\n",
              "    .dataframe tbody tr th {\n",
              "        vertical-align: top;\n",
              "    }\n",
              "\n",
              "    .dataframe thead th {\n",
              "        text-align: right;\n",
              "    }\n",
              "</style>\n",
              "<table border=\"1\" class=\"dataframe\">\n",
              "  <thead>\n",
              "    <tr style=\"text-align: right;\">\n",
              "      <th></th>\n",
              "      <th>device_id</th>\n",
              "      <th>gender</th>\n",
              "      <th>age</th>\n",
              "      <th>group</th>\n",
              "      <th>phone_brand</th>\n",
              "      <th>device_model</th>\n",
              "      <th>Unnamed: 0</th>\n",
              "      <th>event_id</th>\n",
              "      <th>timestamp</th>\n",
              "      <th>longitude</th>\n",
              "      <th>latitude</th>\n",
              "      <th>city</th>\n",
              "      <th>state</th>\n",
              "    </tr>\n",
              "  </thead>\n",
              "  <tbody>\n",
              "    <tr>\n",
              "      <th>0</th>\n",
              "      <td>-6552729385743211</td>\n",
              "      <td>M</td>\n",
              "      <td>28</td>\n",
              "      <td>M27-28</td>\n",
              "      <td>vivo</td>\n",
              "      <td>X3T</td>\n",
              "      <td>149937</td>\n",
              "      <td>189757</td>\n",
              "      <td>2016-05-07 21:40:38</td>\n",
              "      <td>78.487473</td>\n",
              "      <td>17.338947</td>\n",
              "      <td>Rajendranagar</td>\n",
              "      <td>AndhraPradesh</td>\n",
              "    </tr>\n",
              "    <tr>\n",
              "      <th>1</th>\n",
              "      <td>-6552729385743211</td>\n",
              "      <td>M</td>\n",
              "      <td>28</td>\n",
              "      <td>M27-28</td>\n",
              "      <td>vivo</td>\n",
              "      <td>X3T</td>\n",
              "      <td>149938</td>\n",
              "      <td>190875</td>\n",
              "      <td>2016-05-04 22:31:06</td>\n",
              "      <td>78.487473</td>\n",
              "      <td>17.338947</td>\n",
              "      <td>Rajendranagar</td>\n",
              "      <td>AndhraPradesh</td>\n",
              "    </tr>\n",
              "    <tr>\n",
              "      <th>2</th>\n",
              "      <td>-6552729385743211</td>\n",
              "      <td>M</td>\n",
              "      <td>28</td>\n",
              "      <td>M27-28</td>\n",
              "      <td>vivo</td>\n",
              "      <td>X3T</td>\n",
              "      <td>149939</td>\n",
              "      <td>236452</td>\n",
              "      <td>2016-05-04 21:45:10</td>\n",
              "      <td>78.487473</td>\n",
              "      <td>17.338947</td>\n",
              "      <td>Rajendranagar</td>\n",
              "      <td>AndhraPradesh</td>\n",
              "    </tr>\n",
              "    <tr>\n",
              "      <th>3</th>\n",
              "      <td>-6552729385743211</td>\n",
              "      <td>M</td>\n",
              "      <td>28</td>\n",
              "      <td>M27-28</td>\n",
              "      <td>vivo</td>\n",
              "      <td>X3T</td>\n",
              "      <td>149940</td>\n",
              "      <td>237777</td>\n",
              "      <td>2016-05-04 22:33:57</td>\n",
              "      <td>78.487473</td>\n",
              "      <td>17.338947</td>\n",
              "      <td>Rajendranagar</td>\n",
              "      <td>AndhraPradesh</td>\n",
              "    </tr>\n",
              "    <tr>\n",
              "      <th>4</th>\n",
              "      <td>-6552729385743211</td>\n",
              "      <td>M</td>\n",
              "      <td>28</td>\n",
              "      <td>M27-28</td>\n",
              "      <td>vivo</td>\n",
              "      <td>X3T</td>\n",
              "      <td>149941</td>\n",
              "      <td>289077</td>\n",
              "      <td>2016-05-04 21:14:14</td>\n",
              "      <td>78.487473</td>\n",
              "      <td>17.338947</td>\n",
              "      <td>Rajendranagar</td>\n",
              "      <td>AndhraPradesh</td>\n",
              "    </tr>\n",
              "    <tr>\n",
              "      <th>...</th>\n",
              "      <td>...</td>\n",
              "      <td>...</td>\n",
              "      <td>...</td>\n",
              "      <td>...</td>\n",
              "      <td>...</td>\n",
              "      <td>...</td>\n",
              "      <td>...</td>\n",
              "      <td>...</td>\n",
              "      <td>...</td>\n",
              "      <td>...</td>\n",
              "      <td>...</td>\n",
              "      <td>...</td>\n",
              "      <td>...</td>\n",
              "    </tr>\n",
              "    <tr>\n",
              "      <th>14314</th>\n",
              "      <td>419523816160703488</td>\n",
              "      <td>M</td>\n",
              "      <td>19</td>\n",
              "      <td>M22-</td>\n",
              "      <td>vivo</td>\n",
              "      <td>Xplay3S</td>\n",
              "      <td>122009</td>\n",
              "      <td>2995757</td>\n",
              "      <td>2016-05-01 11:38:23</td>\n",
              "      <td>75.899025</td>\n",
              "      <td>26.959949</td>\n",
              "      <td>Jaipur</td>\n",
              "      <td>Rajasthan</td>\n",
              "    </tr>\n",
              "    <tr>\n",
              "      <th>14315</th>\n",
              "      <td>419523816160703488</td>\n",
              "      <td>M</td>\n",
              "      <td>19</td>\n",
              "      <td>M22-</td>\n",
              "      <td>vivo</td>\n",
              "      <td>Xplay3S</td>\n",
              "      <td>122010</td>\n",
              "      <td>2998998</td>\n",
              "      <td>2016-05-03 13:05:53</td>\n",
              "      <td>75.899025</td>\n",
              "      <td>26.959949</td>\n",
              "      <td>Jaipur</td>\n",
              "      <td>Rajasthan</td>\n",
              "    </tr>\n",
              "    <tr>\n",
              "      <th>14316</th>\n",
              "      <td>419523816160703488</td>\n",
              "      <td>M</td>\n",
              "      <td>19</td>\n",
              "      <td>M22-</td>\n",
              "      <td>vivo</td>\n",
              "      <td>Xplay3S</td>\n",
              "      <td>122011</td>\n",
              "      <td>3044070</td>\n",
              "      <td>2016-05-03 01:40:35</td>\n",
              "      <td>75.899025</td>\n",
              "      <td>26.959949</td>\n",
              "      <td>Jaipur</td>\n",
              "      <td>Rajasthan</td>\n",
              "    </tr>\n",
              "    <tr>\n",
              "      <th>14317</th>\n",
              "      <td>419523816160703488</td>\n",
              "      <td>M</td>\n",
              "      <td>19</td>\n",
              "      <td>M22-</td>\n",
              "      <td>vivo</td>\n",
              "      <td>Xplay3S</td>\n",
              "      <td>122012</td>\n",
              "      <td>3191584</td>\n",
              "      <td>2016-05-03 23:18:51</td>\n",
              "      <td>75.899025</td>\n",
              "      <td>26.959949</td>\n",
              "      <td>Jaipur</td>\n",
              "      <td>Rajasthan</td>\n",
              "    </tr>\n",
              "    <tr>\n",
              "      <th>14318</th>\n",
              "      <td>419523816160703488</td>\n",
              "      <td>M</td>\n",
              "      <td>19</td>\n",
              "      <td>M22-</td>\n",
              "      <td>vivo</td>\n",
              "      <td>Xplay3S</td>\n",
              "      <td>122013</td>\n",
              "      <td>3251524</td>\n",
              "      <td>2016-05-02 23:13:09</td>\n",
              "      <td>75.899025</td>\n",
              "      <td>26.959949</td>\n",
              "      <td>Jaipur</td>\n",
              "      <td>Rajasthan</td>\n",
              "    </tr>\n",
              "  </tbody>\n",
              "</table>\n",
              "<p>14319 rows × 13 columns</p>\n",
              "</div>"
            ]
          },
          "metadata": {
            "tags": []
          },
          "execution_count": 29
        }
      ]
    }
  ]
}